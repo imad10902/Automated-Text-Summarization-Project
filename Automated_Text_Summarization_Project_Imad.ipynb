{
  "nbformat": 4,
  "nbformat_minor": 0,
  "metadata": {
    "colab": {
      "provenance": [],
      "authorship_tag": "ABX9TyOX5Lv4U2wJwJGEH/VUltou",
      "include_colab_link": true
    },
    "kernelspec": {
      "name": "python3",
      "display_name": "Python 3"
    },
    "language_info": {
      "name": "python"
    }
  },
  "cells": [
    {
      "cell_type": "markdown",
      "metadata": {
        "id": "view-in-github",
        "colab_type": "text"
      },
      "source": [
        "<a href=\"https://colab.research.google.com/github/imad10902/Automated-Text-Summarization-Project/blob/main/Automated_Text_Summarization_Project_Imad.ipynb\" target=\"_parent\"><img src=\"https://colab.research.google.com/assets/colab-badge.svg\" alt=\"Open In Colab\"/></a>"
      ]
    },
    {
      "cell_type": "code",
      "execution_count": null,
      "metadata": {
        "id": "SEjvieFu4UuA"
      },
      "outputs": [],
      "source": [
        "import pandas as pd\n",
        "import numpy as np"
      ]
    },
    {
      "cell_type": "markdown",
      "source": [
        "# Getting dataset"
      ],
      "metadata": {
        "id": "kwsM_Ta1sFn-"
      }
    },
    {
      "cell_type": "code",
      "source": [
        "pd.read_parquet('CNN_data.parquet').to_csv('CNN_data.csv')\n",
        "df = pd.read_csv('CNN_data.csv')"
      ],
      "metadata": {
        "id": "IvCR7rrU4i_0"
      },
      "execution_count": null,
      "outputs": []
    },
    {
      "cell_type": "code",
      "source": [
        "df= df.drop(df.columns[0], axis=1)"
      ],
      "metadata": {
        "id": "8NF10n0R6lHi"
      },
      "execution_count": null,
      "outputs": []
    },
    {
      "cell_type": "code",
      "source": [
        "df.head()"
      ],
      "metadata": {
        "colab": {
          "base_uri": "https://localhost:8080/",
          "height": 206
        },
        "id": "YzmDx-Z86m65",
        "outputId": "c686d77a-a29b-44d2-a512-8ddd0fa1e6f9"
      },
      "execution_count": null,
      "outputs": [
        {
          "output_type": "execute_result",
          "data": {
            "text/plain": [
              "                                             article  \\\n",
              "0  (CNN)Share, and your gift will be multiplied. ...   \n",
              "1  (CNN)On the 6th of April 1996, San Jose Clash ...   \n",
              "2  (CNN)French striker Bafetimbi Gomis, who has a...   \n",
              "3  (CNN)It was an act of frustration perhaps more...   \n",
              "4  (CNN)A Pennsylvania community is pulling toget...   \n",
              "\n",
              "                                          highlights  \\\n",
              "0  Zully Broussard decided to give a kidney to a ...   \n",
              "1  The 20th MLS season begins this weekend . Leag...   \n",
              "2  Bafetimbi Gomis collapses within 10 minutes of...   \n",
              "3  Rory McIlroy throws club into water at WGC Cad...   \n",
              "4  Cayman Naib, 13, hasn't been heard from since ...   \n",
              "\n",
              "                                         id  \n",
              "0  a4942dd663020ca54575471657a0af38d82897d6  \n",
              "1  4157bc4da185971e2742f349d69a037343bc0d95  \n",
              "2  60736693e3b1b32d14337a317190c6606e879a85  \n",
              "3  8cdf9cc3ed0276b7a7944cc18ba459355b5984ad  \n",
              "4  2e6613d531843515bf5401286cc3e45c4df530d2  "
            ],
            "text/html": [
              "\n",
              "  <div id=\"df-6a9eb84b-4346-42a8-8beb-d321c9e8d436\">\n",
              "    <div class=\"colab-df-container\">\n",
              "      <div>\n",
              "<style scoped>\n",
              "    .dataframe tbody tr th:only-of-type {\n",
              "        vertical-align: middle;\n",
              "    }\n",
              "\n",
              "    .dataframe tbody tr th {\n",
              "        vertical-align: top;\n",
              "    }\n",
              "\n",
              "    .dataframe thead th {\n",
              "        text-align: right;\n",
              "    }\n",
              "</style>\n",
              "<table border=\"1\" class=\"dataframe\">\n",
              "  <thead>\n",
              "    <tr style=\"text-align: right;\">\n",
              "      <th></th>\n",
              "      <th>article</th>\n",
              "      <th>highlights</th>\n",
              "      <th>id</th>\n",
              "    </tr>\n",
              "  </thead>\n",
              "  <tbody>\n",
              "    <tr>\n",
              "      <th>0</th>\n",
              "      <td>(CNN)Share, and your gift will be multiplied. ...</td>\n",
              "      <td>Zully Broussard decided to give a kidney to a ...</td>\n",
              "      <td>a4942dd663020ca54575471657a0af38d82897d6</td>\n",
              "    </tr>\n",
              "    <tr>\n",
              "      <th>1</th>\n",
              "      <td>(CNN)On the 6th of April 1996, San Jose Clash ...</td>\n",
              "      <td>The 20th MLS season begins this weekend . Leag...</td>\n",
              "      <td>4157bc4da185971e2742f349d69a037343bc0d95</td>\n",
              "    </tr>\n",
              "    <tr>\n",
              "      <th>2</th>\n",
              "      <td>(CNN)French striker Bafetimbi Gomis, who has a...</td>\n",
              "      <td>Bafetimbi Gomis collapses within 10 minutes of...</td>\n",
              "      <td>60736693e3b1b32d14337a317190c6606e879a85</td>\n",
              "    </tr>\n",
              "    <tr>\n",
              "      <th>3</th>\n",
              "      <td>(CNN)It was an act of frustration perhaps more...</td>\n",
              "      <td>Rory McIlroy throws club into water at WGC Cad...</td>\n",
              "      <td>8cdf9cc3ed0276b7a7944cc18ba459355b5984ad</td>\n",
              "    </tr>\n",
              "    <tr>\n",
              "      <th>4</th>\n",
              "      <td>(CNN)A Pennsylvania community is pulling toget...</td>\n",
              "      <td>Cayman Naib, 13, hasn't been heard from since ...</td>\n",
              "      <td>2e6613d531843515bf5401286cc3e45c4df530d2</td>\n",
              "    </tr>\n",
              "  </tbody>\n",
              "</table>\n",
              "</div>\n",
              "      <button class=\"colab-df-convert\" onclick=\"convertToInteractive('df-6a9eb84b-4346-42a8-8beb-d321c9e8d436')\"\n",
              "              title=\"Convert this dataframe to an interactive table.\"\n",
              "              style=\"display:none;\">\n",
              "        \n",
              "  <svg xmlns=\"http://www.w3.org/2000/svg\" height=\"24px\"viewBox=\"0 0 24 24\"\n",
              "       width=\"24px\">\n",
              "    <path d=\"M0 0h24v24H0V0z\" fill=\"none\"/>\n",
              "    <path d=\"M18.56 5.44l.94 2.06.94-2.06 2.06-.94-2.06-.94-.94-2.06-.94 2.06-2.06.94zm-11 1L8.5 8.5l.94-2.06 2.06-.94-2.06-.94L8.5 2.5l-.94 2.06-2.06.94zm10 10l.94 2.06.94-2.06 2.06-.94-2.06-.94-.94-2.06-.94 2.06-2.06.94z\"/><path d=\"M17.41 7.96l-1.37-1.37c-.4-.4-.92-.59-1.43-.59-.52 0-1.04.2-1.43.59L10.3 9.45l-7.72 7.72c-.78.78-.78 2.05 0 2.83L4 21.41c.39.39.9.59 1.41.59.51 0 1.02-.2 1.41-.59l7.78-7.78 2.81-2.81c.8-.78.8-2.07 0-2.86zM5.41 20L4 18.59l7.72-7.72 1.47 1.35L5.41 20z\"/>\n",
              "  </svg>\n",
              "      </button>\n",
              "      \n",
              "  <style>\n",
              "    .colab-df-container {\n",
              "      display:flex;\n",
              "      flex-wrap:wrap;\n",
              "      gap: 12px;\n",
              "    }\n",
              "\n",
              "    .colab-df-convert {\n",
              "      background-color: #E8F0FE;\n",
              "      border: none;\n",
              "      border-radius: 50%;\n",
              "      cursor: pointer;\n",
              "      display: none;\n",
              "      fill: #1967D2;\n",
              "      height: 32px;\n",
              "      padding: 0 0 0 0;\n",
              "      width: 32px;\n",
              "    }\n",
              "\n",
              "    .colab-df-convert:hover {\n",
              "      background-color: #E2EBFA;\n",
              "      box-shadow: 0px 1px 2px rgba(60, 64, 67, 0.3), 0px 1px 3px 1px rgba(60, 64, 67, 0.15);\n",
              "      fill: #174EA6;\n",
              "    }\n",
              "\n",
              "    [theme=dark] .colab-df-convert {\n",
              "      background-color: #3B4455;\n",
              "      fill: #D2E3FC;\n",
              "    }\n",
              "\n",
              "    [theme=dark] .colab-df-convert:hover {\n",
              "      background-color: #434B5C;\n",
              "      box-shadow: 0px 1px 3px 1px rgba(0, 0, 0, 0.15);\n",
              "      filter: drop-shadow(0px 1px 2px rgba(0, 0, 0, 0.3));\n",
              "      fill: #FFFFFF;\n",
              "    }\n",
              "  </style>\n",
              "\n",
              "      <script>\n",
              "        const buttonEl =\n",
              "          document.querySelector('#df-6a9eb84b-4346-42a8-8beb-d321c9e8d436 button.colab-df-convert');\n",
              "        buttonEl.style.display =\n",
              "          google.colab.kernel.accessAllowed ? 'block' : 'none';\n",
              "\n",
              "        async function convertToInteractive(key) {\n",
              "          const element = document.querySelector('#df-6a9eb84b-4346-42a8-8beb-d321c9e8d436');\n",
              "          const dataTable =\n",
              "            await google.colab.kernel.invokeFunction('convertToInteractive',\n",
              "                                                     [key], {});\n",
              "          if (!dataTable) return;\n",
              "\n",
              "          const docLinkHtml = 'Like what you see? Visit the ' +\n",
              "            '<a target=\"_blank\" href=https://colab.research.google.com/notebooks/data_table.ipynb>data table notebook</a>'\n",
              "            + ' to learn more about interactive tables.';\n",
              "          element.innerHTML = '';\n",
              "          dataTable['output_type'] = 'display_data';\n",
              "          await google.colab.output.renderOutput(dataTable, element);\n",
              "          const docLink = document.createElement('div');\n",
              "          docLink.innerHTML = docLinkHtml;\n",
              "          element.appendChild(docLink);\n",
              "        }\n",
              "      </script>\n",
              "    </div>\n",
              "  </div>\n",
              "  "
            ]
          },
          "metadata": {},
          "execution_count": 51
        }
      ]
    },
    {
      "cell_type": "code",
      "source": [],
      "metadata": {
        "id": "5yJENpZSvhGI"
      },
      "execution_count": null,
      "outputs": []
    },
    {
      "cell_type": "code",
      "source": [
        "df.shape"
      ],
      "metadata": {
        "colab": {
          "base_uri": "https://localhost:8080/"
        },
        "id": "8w5H8dQI6612",
        "outputId": "7420d15a-13e9-4465-b284-962315119571"
      },
      "execution_count": null,
      "outputs": [
        {
          "output_type": "execute_result",
          "data": {
            "text/plain": [
              "(13368, 3)"
            ]
          },
          "metadata": {},
          "execution_count": 52
        }
      ]
    },
    {
      "cell_type": "markdown",
      "source": [
        "## Cleaning data"
      ],
      "metadata": {
        "id": "QTpKwqP2sN6m"
      }
    },
    {
      "cell_type": "code",
      "source": [
        "df['article'] = df['article'].str.replace(r'\\(CNN\\)', '').str.replace(r'\\(|\\)', '')"
      ],
      "metadata": {
        "colab": {
          "base_uri": "https://localhost:8080/"
        },
        "id": "11w86vPI6-zj",
        "outputId": "f554c4a6-62da-4b56-b190-bd4a07033181"
      },
      "execution_count": null,
      "outputs": [
        {
          "output_type": "stream",
          "name": "stderr",
          "text": [
            "<ipython-input-53-159247a65099>:1: FutureWarning: The default value of regex will change from True to False in a future version.\n",
            "  df['article'] = df['article'].str.replace(r'\\(CNN\\)', '').str.replace(r'\\(|\\)', '')\n"
          ]
        }
      ]
    },
    {
      "cell_type": "code",
      "source": [
        "df.head()"
      ],
      "metadata": {
        "colab": {
          "base_uri": "https://localhost:8080/",
          "height": 206
        },
        "id": "d3dIIeRu7ARE",
        "outputId": "0980a615-c2c1-4c42-95ad-3983aa564c9f"
      },
      "execution_count": null,
      "outputs": [
        {
          "output_type": "execute_result",
          "data": {
            "text/plain": [
              "                                             article  \\\n",
              "0  Share, and your gift will be multiplied. That ...   \n",
              "1  On the 6th of April 1996, San Jose Clash and D...   \n",
              "2  French striker Bafetimbi Gomis, who has a hist...   \n",
              "3  It was an act of frustration perhaps more comm...   \n",
              "4  A Pennsylvania community is pulling together t...   \n",
              "\n",
              "                                          highlights  \\\n",
              "0  Zully Broussard decided to give a kidney to a ...   \n",
              "1  The 20th MLS season begins this weekend . Leag...   \n",
              "2  Bafetimbi Gomis collapses within 10 minutes of...   \n",
              "3  Rory McIlroy throws club into water at WGC Cad...   \n",
              "4  Cayman Naib, 13, hasn't been heard from since ...   \n",
              "\n",
              "                                         id  \n",
              "0  a4942dd663020ca54575471657a0af38d82897d6  \n",
              "1  4157bc4da185971e2742f349d69a037343bc0d95  \n",
              "2  60736693e3b1b32d14337a317190c6606e879a85  \n",
              "3  8cdf9cc3ed0276b7a7944cc18ba459355b5984ad  \n",
              "4  2e6613d531843515bf5401286cc3e45c4df530d2  "
            ],
            "text/html": [
              "\n",
              "  <div id=\"df-5c1dd2a5-1ea0-4c9c-a3ba-f0b2f22c6a35\">\n",
              "    <div class=\"colab-df-container\">\n",
              "      <div>\n",
              "<style scoped>\n",
              "    .dataframe tbody tr th:only-of-type {\n",
              "        vertical-align: middle;\n",
              "    }\n",
              "\n",
              "    .dataframe tbody tr th {\n",
              "        vertical-align: top;\n",
              "    }\n",
              "\n",
              "    .dataframe thead th {\n",
              "        text-align: right;\n",
              "    }\n",
              "</style>\n",
              "<table border=\"1\" class=\"dataframe\">\n",
              "  <thead>\n",
              "    <tr style=\"text-align: right;\">\n",
              "      <th></th>\n",
              "      <th>article</th>\n",
              "      <th>highlights</th>\n",
              "      <th>id</th>\n",
              "    </tr>\n",
              "  </thead>\n",
              "  <tbody>\n",
              "    <tr>\n",
              "      <th>0</th>\n",
              "      <td>Share, and your gift will be multiplied. That ...</td>\n",
              "      <td>Zully Broussard decided to give a kidney to a ...</td>\n",
              "      <td>a4942dd663020ca54575471657a0af38d82897d6</td>\n",
              "    </tr>\n",
              "    <tr>\n",
              "      <th>1</th>\n",
              "      <td>On the 6th of April 1996, San Jose Clash and D...</td>\n",
              "      <td>The 20th MLS season begins this weekend . Leag...</td>\n",
              "      <td>4157bc4da185971e2742f349d69a037343bc0d95</td>\n",
              "    </tr>\n",
              "    <tr>\n",
              "      <th>2</th>\n",
              "      <td>French striker Bafetimbi Gomis, who has a hist...</td>\n",
              "      <td>Bafetimbi Gomis collapses within 10 minutes of...</td>\n",
              "      <td>60736693e3b1b32d14337a317190c6606e879a85</td>\n",
              "    </tr>\n",
              "    <tr>\n",
              "      <th>3</th>\n",
              "      <td>It was an act of frustration perhaps more comm...</td>\n",
              "      <td>Rory McIlroy throws club into water at WGC Cad...</td>\n",
              "      <td>8cdf9cc3ed0276b7a7944cc18ba459355b5984ad</td>\n",
              "    </tr>\n",
              "    <tr>\n",
              "      <th>4</th>\n",
              "      <td>A Pennsylvania community is pulling together t...</td>\n",
              "      <td>Cayman Naib, 13, hasn't been heard from since ...</td>\n",
              "      <td>2e6613d531843515bf5401286cc3e45c4df530d2</td>\n",
              "    </tr>\n",
              "  </tbody>\n",
              "</table>\n",
              "</div>\n",
              "      <button class=\"colab-df-convert\" onclick=\"convertToInteractive('df-5c1dd2a5-1ea0-4c9c-a3ba-f0b2f22c6a35')\"\n",
              "              title=\"Convert this dataframe to an interactive table.\"\n",
              "              style=\"display:none;\">\n",
              "        \n",
              "  <svg xmlns=\"http://www.w3.org/2000/svg\" height=\"24px\"viewBox=\"0 0 24 24\"\n",
              "       width=\"24px\">\n",
              "    <path d=\"M0 0h24v24H0V0z\" fill=\"none\"/>\n",
              "    <path d=\"M18.56 5.44l.94 2.06.94-2.06 2.06-.94-2.06-.94-.94-2.06-.94 2.06-2.06.94zm-11 1L8.5 8.5l.94-2.06 2.06-.94-2.06-.94L8.5 2.5l-.94 2.06-2.06.94zm10 10l.94 2.06.94-2.06 2.06-.94-2.06-.94-.94-2.06-.94 2.06-2.06.94z\"/><path d=\"M17.41 7.96l-1.37-1.37c-.4-.4-.92-.59-1.43-.59-.52 0-1.04.2-1.43.59L10.3 9.45l-7.72 7.72c-.78.78-.78 2.05 0 2.83L4 21.41c.39.39.9.59 1.41.59.51 0 1.02-.2 1.41-.59l7.78-7.78 2.81-2.81c.8-.78.8-2.07 0-2.86zM5.41 20L4 18.59l7.72-7.72 1.47 1.35L5.41 20z\"/>\n",
              "  </svg>\n",
              "      </button>\n",
              "      \n",
              "  <style>\n",
              "    .colab-df-container {\n",
              "      display:flex;\n",
              "      flex-wrap:wrap;\n",
              "      gap: 12px;\n",
              "    }\n",
              "\n",
              "    .colab-df-convert {\n",
              "      background-color: #E8F0FE;\n",
              "      border: none;\n",
              "      border-radius: 50%;\n",
              "      cursor: pointer;\n",
              "      display: none;\n",
              "      fill: #1967D2;\n",
              "      height: 32px;\n",
              "      padding: 0 0 0 0;\n",
              "      width: 32px;\n",
              "    }\n",
              "\n",
              "    .colab-df-convert:hover {\n",
              "      background-color: #E2EBFA;\n",
              "      box-shadow: 0px 1px 2px rgba(60, 64, 67, 0.3), 0px 1px 3px 1px rgba(60, 64, 67, 0.15);\n",
              "      fill: #174EA6;\n",
              "    }\n",
              "\n",
              "    [theme=dark] .colab-df-convert {\n",
              "      background-color: #3B4455;\n",
              "      fill: #D2E3FC;\n",
              "    }\n",
              "\n",
              "    [theme=dark] .colab-df-convert:hover {\n",
              "      background-color: #434B5C;\n",
              "      box-shadow: 0px 1px 3px 1px rgba(0, 0, 0, 0.15);\n",
              "      filter: drop-shadow(0px 1px 2px rgba(0, 0, 0, 0.3));\n",
              "      fill: #FFFFFF;\n",
              "    }\n",
              "  </style>\n",
              "\n",
              "      <script>\n",
              "        const buttonEl =\n",
              "          document.querySelector('#df-5c1dd2a5-1ea0-4c9c-a3ba-f0b2f22c6a35 button.colab-df-convert');\n",
              "        buttonEl.style.display =\n",
              "          google.colab.kernel.accessAllowed ? 'block' : 'none';\n",
              "\n",
              "        async function convertToInteractive(key) {\n",
              "          const element = document.querySelector('#df-5c1dd2a5-1ea0-4c9c-a3ba-f0b2f22c6a35');\n",
              "          const dataTable =\n",
              "            await google.colab.kernel.invokeFunction('convertToInteractive',\n",
              "                                                     [key], {});\n",
              "          if (!dataTable) return;\n",
              "\n",
              "          const docLinkHtml = 'Like what you see? Visit the ' +\n",
              "            '<a target=\"_blank\" href=https://colab.research.google.com/notebooks/data_table.ipynb>data table notebook</a>'\n",
              "            + ' to learn more about interactive tables.';\n",
              "          element.innerHTML = '';\n",
              "          dataTable['output_type'] = 'display_data';\n",
              "          await google.colab.output.renderOutput(dataTable, element);\n",
              "          const docLink = document.createElement('div');\n",
              "          docLink.innerHTML = docLinkHtml;\n",
              "          element.appendChild(docLink);\n",
              "        }\n",
              "      </script>\n",
              "    </div>\n",
              "  </div>\n",
              "  "
            ]
          },
          "metadata": {},
          "execution_count": 54
        }
      ]
    },
    {
      "cell_type": "code",
      "source": [
        "!pip install transformers"
      ],
      "metadata": {
        "id": "T0sapt0k7CQN"
      },
      "execution_count": null,
      "outputs": []
    },
    {
      "cell_type": "markdown",
      "source": [
        "## Splitting the dataset"
      ],
      "metadata": {
        "id": "lozb1QInsie9"
      }
    },
    {
      "cell_type": "code",
      "source": [
        "train, test = np.split(df.sample(frac=1), [int(0.991*len(df))])"
      ],
      "metadata": {
        "id": "_Xa-BMFHAIEH"
      },
      "execution_count": null,
      "outputs": []
    },
    {
      "cell_type": "code",
      "source": [
        "input= test.copy()\n",
        "input.head()"
      ],
      "metadata": {
        "colab": {
          "base_uri": "https://localhost:8080/",
          "height": 250
        },
        "id": "Uwg3mowxA7jK",
        "outputId": "149bf23b-7e97-4136-ef68-85656b5db008"
      },
      "execution_count": null,
      "outputs": [
        {
          "output_type": "execute_result",
          "data": {
            "text/plain": [
              "                                                article  \\\n",
              "9675  Real estate mogul Donald Trump, a day after an...   \n",
              "2226  Wolfsburg and Borussia Monchengladbach both bo...   \n",
              "4072  David Beckham has lifted the lid on his son Br...   \n",
              "8093  A Hong Kong man has been found guilty of murde...   \n",
              "5403  Brazil captain Thiago Silva has shown his supp...   \n",
              "\n",
              "                                             highlights  \\\n",
              "9675  'The Donald' is expected to make an earnest ru...   \n",
              "2226  Wolfsburg look certain for Champions League af...   \n",
              "4072  David Beckham was a guest on James Corden's La...   \n",
              "8093  A Hong Kong man killed his parents before dism...   \n",
              "5403  Thiago Silva launches a scathing attack on Con...   \n",
              "\n",
              "                                            id  \n",
              "9675  f9f515bfb5d78f82d6cddde034d235ebfd6ee8fd  \n",
              "2226  21e7832f0b54d09ed4869d78d1134d6fe1a03554  \n",
              "4072  f2b3c18596e1b782a7356235cf7dbf8e2fcb4de7  \n",
              "8093  6d1ec4ff8c5121458b9f378234f2afe2c49d2074  \n",
              "5403  1bb84624e86dff4a754da666647cf4a54a882f16  "
            ],
            "text/html": [
              "\n",
              "  <div id=\"df-ef99269c-318d-4132-ae1e-9e6819f9ab9a\">\n",
              "    <div class=\"colab-df-container\">\n",
              "      <div>\n",
              "<style scoped>\n",
              "    .dataframe tbody tr th:only-of-type {\n",
              "        vertical-align: middle;\n",
              "    }\n",
              "\n",
              "    .dataframe tbody tr th {\n",
              "        vertical-align: top;\n",
              "    }\n",
              "\n",
              "    .dataframe thead th {\n",
              "        text-align: right;\n",
              "    }\n",
              "</style>\n",
              "<table border=\"1\" class=\"dataframe\">\n",
              "  <thead>\n",
              "    <tr style=\"text-align: right;\">\n",
              "      <th></th>\n",
              "      <th>article</th>\n",
              "      <th>highlights</th>\n",
              "      <th>id</th>\n",
              "    </tr>\n",
              "  </thead>\n",
              "  <tbody>\n",
              "    <tr>\n",
              "      <th>9675</th>\n",
              "      <td>Real estate mogul Donald Trump, a day after an...</td>\n",
              "      <td>'The Donald' is expected to make an earnest ru...</td>\n",
              "      <td>f9f515bfb5d78f82d6cddde034d235ebfd6ee8fd</td>\n",
              "    </tr>\n",
              "    <tr>\n",
              "      <th>2226</th>\n",
              "      <td>Wolfsburg and Borussia Monchengladbach both bo...</td>\n",
              "      <td>Wolfsburg look certain for Champions League af...</td>\n",
              "      <td>21e7832f0b54d09ed4869d78d1134d6fe1a03554</td>\n",
              "    </tr>\n",
              "    <tr>\n",
              "      <th>4072</th>\n",
              "      <td>David Beckham has lifted the lid on his son Br...</td>\n",
              "      <td>David Beckham was a guest on James Corden's La...</td>\n",
              "      <td>f2b3c18596e1b782a7356235cf7dbf8e2fcb4de7</td>\n",
              "    </tr>\n",
              "    <tr>\n",
              "      <th>8093</th>\n",
              "      <td>A Hong Kong man has been found guilty of murde...</td>\n",
              "      <td>A Hong Kong man killed his parents before dism...</td>\n",
              "      <td>6d1ec4ff8c5121458b9f378234f2afe2c49d2074</td>\n",
              "    </tr>\n",
              "    <tr>\n",
              "      <th>5403</th>\n",
              "      <td>Brazil captain Thiago Silva has shown his supp...</td>\n",
              "      <td>Thiago Silva launches a scathing attack on Con...</td>\n",
              "      <td>1bb84624e86dff4a754da666647cf4a54a882f16</td>\n",
              "    </tr>\n",
              "  </tbody>\n",
              "</table>\n",
              "</div>\n",
              "      <button class=\"colab-df-convert\" onclick=\"convertToInteractive('df-ef99269c-318d-4132-ae1e-9e6819f9ab9a')\"\n",
              "              title=\"Convert this dataframe to an interactive table.\"\n",
              "              style=\"display:none;\">\n",
              "        \n",
              "  <svg xmlns=\"http://www.w3.org/2000/svg\" height=\"24px\"viewBox=\"0 0 24 24\"\n",
              "       width=\"24px\">\n",
              "    <path d=\"M0 0h24v24H0V0z\" fill=\"none\"/>\n",
              "    <path d=\"M18.56 5.44l.94 2.06.94-2.06 2.06-.94-2.06-.94-.94-2.06-.94 2.06-2.06.94zm-11 1L8.5 8.5l.94-2.06 2.06-.94-2.06-.94L8.5 2.5l-.94 2.06-2.06.94zm10 10l.94 2.06.94-2.06 2.06-.94-2.06-.94-.94-2.06-.94 2.06-2.06.94z\"/><path d=\"M17.41 7.96l-1.37-1.37c-.4-.4-.92-.59-1.43-.59-.52 0-1.04.2-1.43.59L10.3 9.45l-7.72 7.72c-.78.78-.78 2.05 0 2.83L4 21.41c.39.39.9.59 1.41.59.51 0 1.02-.2 1.41-.59l7.78-7.78 2.81-2.81c.8-.78.8-2.07 0-2.86zM5.41 20L4 18.59l7.72-7.72 1.47 1.35L5.41 20z\"/>\n",
              "  </svg>\n",
              "      </button>\n",
              "      \n",
              "  <style>\n",
              "    .colab-df-container {\n",
              "      display:flex;\n",
              "      flex-wrap:wrap;\n",
              "      gap: 12px;\n",
              "    }\n",
              "\n",
              "    .colab-df-convert {\n",
              "      background-color: #E8F0FE;\n",
              "      border: none;\n",
              "      border-radius: 50%;\n",
              "      cursor: pointer;\n",
              "      display: none;\n",
              "      fill: #1967D2;\n",
              "      height: 32px;\n",
              "      padding: 0 0 0 0;\n",
              "      width: 32px;\n",
              "    }\n",
              "\n",
              "    .colab-df-convert:hover {\n",
              "      background-color: #E2EBFA;\n",
              "      box-shadow: 0px 1px 2px rgba(60, 64, 67, 0.3), 0px 1px 3px 1px rgba(60, 64, 67, 0.15);\n",
              "      fill: #174EA6;\n",
              "    }\n",
              "\n",
              "    [theme=dark] .colab-df-convert {\n",
              "      background-color: #3B4455;\n",
              "      fill: #D2E3FC;\n",
              "    }\n",
              "\n",
              "    [theme=dark] .colab-df-convert:hover {\n",
              "      background-color: #434B5C;\n",
              "      box-shadow: 0px 1px 3px 1px rgba(0, 0, 0, 0.15);\n",
              "      filter: drop-shadow(0px 1px 2px rgba(0, 0, 0, 0.3));\n",
              "      fill: #FFFFFF;\n",
              "    }\n",
              "  </style>\n",
              "\n",
              "      <script>\n",
              "        const buttonEl =\n",
              "          document.querySelector('#df-ef99269c-318d-4132-ae1e-9e6819f9ab9a button.colab-df-convert');\n",
              "        buttonEl.style.display =\n",
              "          google.colab.kernel.accessAllowed ? 'block' : 'none';\n",
              "\n",
              "        async function convertToInteractive(key) {\n",
              "          const element = document.querySelector('#df-ef99269c-318d-4132-ae1e-9e6819f9ab9a');\n",
              "          const dataTable =\n",
              "            await google.colab.kernel.invokeFunction('convertToInteractive',\n",
              "                                                     [key], {});\n",
              "          if (!dataTable) return;\n",
              "\n",
              "          const docLinkHtml = 'Like what you see? Visit the ' +\n",
              "            '<a target=\"_blank\" href=https://colab.research.google.com/notebooks/data_table.ipynb>data table notebook</a>'\n",
              "            + ' to learn more about interactive tables.';\n",
              "          element.innerHTML = '';\n",
              "          dataTable['output_type'] = 'display_data';\n",
              "          await google.colab.output.renderOutput(dataTable, element);\n",
              "          const docLink = document.createElement('div');\n",
              "          docLink.innerHTML = docLinkHtml;\n",
              "          element.appendChild(docLink);\n",
              "        }\n",
              "      </script>\n",
              "    </div>\n",
              "  </div>\n",
              "  "
            ]
          },
          "metadata": {},
          "execution_count": 110
        }
      ]
    },
    {
      "cell_type": "markdown",
      "source": [
        "## Using BART model"
      ],
      "metadata": {
        "id": "9MUzIT8jtMqE"
      }
    },
    {
      "cell_type": "code",
      "source": [
        "import torch\n",
        "from transformers import BartTokenizer, BartForConditionalGeneration"
      ],
      "metadata": {
        "id": "3mdMkm16-KYx"
      },
      "execution_count": null,
      "outputs": []
    },
    {
      "cell_type": "code",
      "source": [
        "model_name = 'facebook/bart-large-cnn'\n",
        "tokenizer = BartTokenizer.from_pretrained(model_name)\n",
        "model = BartForConditionalGeneration.from_pretrained(model_name)\n"
      ],
      "metadata": {
        "id": "VKDC_GUQ-nyb"
      },
      "execution_count": null,
      "outputs": []
    },
    {
      "cell_type": "markdown",
      "source": [
        "## Function to summarize text"
      ],
      "metadata": {
        "id": "re5Ve59Tsay9"
      }
    },
    {
      "cell_type": "code",
      "source": [
        "def generate_summary(text):\n",
        "    inputs = tokenizer([text], truncation=True, max_length=1024, return_tensors='pt')\n",
        "\n",
        "    input_ids = inputs.input_ids\n",
        "    attention_mask = inputs.attention_mask\n",
        "    outputs = model.generate(input_ids=input_ids, attention_mask=attention_mask, max_length=70, num_beams=5)\n",
        "\n",
        "    summary = tokenizer.decode(outputs[0], skip_special_tokens=True, clean_up_tokenization_spaces=True)\n",
        "    return summary"
      ],
      "metadata": {
        "id": "3A8XCkeV-sT2"
      },
      "execution_count": null,
      "outputs": []
    },
    {
      "cell_type": "code",
      "source": [
        "input['highlights'] = input['article'].apply(generate_summary)"
      ],
      "metadata": {
        "id": "UMkBM5MtDjsi"
      },
      "execution_count": null,
      "outputs": []
    },
    {
      "cell_type": "code",
      "source": [
        "input.head()"
      ],
      "metadata": {
        "colab": {
          "base_uri": "https://localhost:8080/",
          "height": 250
        },
        "id": "tKnH3s2JQD5l",
        "outputId": "144c551a-b0ff-4870-a280-8dcfab622223"
      },
      "execution_count": null,
      "outputs": [
        {
          "output_type": "execute_result",
          "data": {
            "text/plain": [
              "                                                article  \\\n",
              "9675  Real estate mogul Donald Trump, a day after an...   \n",
              "2226  Wolfsburg and Borussia Monchengladbach both bo...   \n",
              "4072  David Beckham has lifted the lid on his son Br...   \n",
              "8093  A Hong Kong man has been found guilty of murde...   \n",
              "5403  Brazil captain Thiago Silva has shown his supp...   \n",
              "\n",
              "                                             highlights  \\\n",
              "9675  'We need people in Washington that know how to...   \n",
              "2226  Wolfsburg and Borussia Monchengladbach both bo...   \n",
              "4072  David Beckham was a guest on James Corden's La...   \n",
              "8093  Henry Chau Hoi-lueng, 31, has been found guilt...   \n",
              "5403  Thiago Silva was recorded on the phone with UF...   \n",
              "\n",
              "                                            id  \n",
              "9675  f9f515bfb5d78f82d6cddde034d235ebfd6ee8fd  \n",
              "2226  21e7832f0b54d09ed4869d78d1134d6fe1a03554  \n",
              "4072  f2b3c18596e1b782a7356235cf7dbf8e2fcb4de7  \n",
              "8093  6d1ec4ff8c5121458b9f378234f2afe2c49d2074  \n",
              "5403  1bb84624e86dff4a754da666647cf4a54a882f16  "
            ],
            "text/html": [
              "\n",
              "  <div id=\"df-c79342d5-676e-4a29-b379-0332ae98aa4e\">\n",
              "    <div class=\"colab-df-container\">\n",
              "      <div>\n",
              "<style scoped>\n",
              "    .dataframe tbody tr th:only-of-type {\n",
              "        vertical-align: middle;\n",
              "    }\n",
              "\n",
              "    .dataframe tbody tr th {\n",
              "        vertical-align: top;\n",
              "    }\n",
              "\n",
              "    .dataframe thead th {\n",
              "        text-align: right;\n",
              "    }\n",
              "</style>\n",
              "<table border=\"1\" class=\"dataframe\">\n",
              "  <thead>\n",
              "    <tr style=\"text-align: right;\">\n",
              "      <th></th>\n",
              "      <th>article</th>\n",
              "      <th>highlights</th>\n",
              "      <th>id</th>\n",
              "    </tr>\n",
              "  </thead>\n",
              "  <tbody>\n",
              "    <tr>\n",
              "      <th>9675</th>\n",
              "      <td>Real estate mogul Donald Trump, a day after an...</td>\n",
              "      <td>'We need people in Washington that know how to...</td>\n",
              "      <td>f9f515bfb5d78f82d6cddde034d235ebfd6ee8fd</td>\n",
              "    </tr>\n",
              "    <tr>\n",
              "      <th>2226</th>\n",
              "      <td>Wolfsburg and Borussia Monchengladbach both bo...</td>\n",
              "      <td>Wolfsburg and Borussia Monchengladbach both bo...</td>\n",
              "      <td>21e7832f0b54d09ed4869d78d1134d6fe1a03554</td>\n",
              "    </tr>\n",
              "    <tr>\n",
              "      <th>4072</th>\n",
              "      <td>David Beckham has lifted the lid on his son Br...</td>\n",
              "      <td>David Beckham was a guest on James Corden's La...</td>\n",
              "      <td>f2b3c18596e1b782a7356235cf7dbf8e2fcb4de7</td>\n",
              "    </tr>\n",
              "    <tr>\n",
              "      <th>8093</th>\n",
              "      <td>A Hong Kong man has been found guilty of murde...</td>\n",
              "      <td>Henry Chau Hoi-lueng, 31, has been found guilt...</td>\n",
              "      <td>6d1ec4ff8c5121458b9f378234f2afe2c49d2074</td>\n",
              "    </tr>\n",
              "    <tr>\n",
              "      <th>5403</th>\n",
              "      <td>Brazil captain Thiago Silva has shown his supp...</td>\n",
              "      <td>Thiago Silva was recorded on the phone with UF...</td>\n",
              "      <td>1bb84624e86dff4a754da666647cf4a54a882f16</td>\n",
              "    </tr>\n",
              "  </tbody>\n",
              "</table>\n",
              "</div>\n",
              "      <button class=\"colab-df-convert\" onclick=\"convertToInteractive('df-c79342d5-676e-4a29-b379-0332ae98aa4e')\"\n",
              "              title=\"Convert this dataframe to an interactive table.\"\n",
              "              style=\"display:none;\">\n",
              "        \n",
              "  <svg xmlns=\"http://www.w3.org/2000/svg\" height=\"24px\"viewBox=\"0 0 24 24\"\n",
              "       width=\"24px\">\n",
              "    <path d=\"M0 0h24v24H0V0z\" fill=\"none\"/>\n",
              "    <path d=\"M18.56 5.44l.94 2.06.94-2.06 2.06-.94-2.06-.94-.94-2.06-.94 2.06-2.06.94zm-11 1L8.5 8.5l.94-2.06 2.06-.94-2.06-.94L8.5 2.5l-.94 2.06-2.06.94zm10 10l.94 2.06.94-2.06 2.06-.94-2.06-.94-.94-2.06-.94 2.06-2.06.94z\"/><path d=\"M17.41 7.96l-1.37-1.37c-.4-.4-.92-.59-1.43-.59-.52 0-1.04.2-1.43.59L10.3 9.45l-7.72 7.72c-.78.78-.78 2.05 0 2.83L4 21.41c.39.39.9.59 1.41.59.51 0 1.02-.2 1.41-.59l7.78-7.78 2.81-2.81c.8-.78.8-2.07 0-2.86zM5.41 20L4 18.59l7.72-7.72 1.47 1.35L5.41 20z\"/>\n",
              "  </svg>\n",
              "      </button>\n",
              "      \n",
              "  <style>\n",
              "    .colab-df-container {\n",
              "      display:flex;\n",
              "      flex-wrap:wrap;\n",
              "      gap: 12px;\n",
              "    }\n",
              "\n",
              "    .colab-df-convert {\n",
              "      background-color: #E8F0FE;\n",
              "      border: none;\n",
              "      border-radius: 50%;\n",
              "      cursor: pointer;\n",
              "      display: none;\n",
              "      fill: #1967D2;\n",
              "      height: 32px;\n",
              "      padding: 0 0 0 0;\n",
              "      width: 32px;\n",
              "    }\n",
              "\n",
              "    .colab-df-convert:hover {\n",
              "      background-color: #E2EBFA;\n",
              "      box-shadow: 0px 1px 2px rgba(60, 64, 67, 0.3), 0px 1px 3px 1px rgba(60, 64, 67, 0.15);\n",
              "      fill: #174EA6;\n",
              "    }\n",
              "\n",
              "    [theme=dark] .colab-df-convert {\n",
              "      background-color: #3B4455;\n",
              "      fill: #D2E3FC;\n",
              "    }\n",
              "\n",
              "    [theme=dark] .colab-df-convert:hover {\n",
              "      background-color: #434B5C;\n",
              "      box-shadow: 0px 1px 3px 1px rgba(0, 0, 0, 0.15);\n",
              "      filter: drop-shadow(0px 1px 2px rgba(0, 0, 0, 0.3));\n",
              "      fill: #FFFFFF;\n",
              "    }\n",
              "  </style>\n",
              "\n",
              "      <script>\n",
              "        const buttonEl =\n",
              "          document.querySelector('#df-c79342d5-676e-4a29-b379-0332ae98aa4e button.colab-df-convert');\n",
              "        buttonEl.style.display =\n",
              "          google.colab.kernel.accessAllowed ? 'block' : 'none';\n",
              "\n",
              "        async function convertToInteractive(key) {\n",
              "          const element = document.querySelector('#df-c79342d5-676e-4a29-b379-0332ae98aa4e');\n",
              "          const dataTable =\n",
              "            await google.colab.kernel.invokeFunction('convertToInteractive',\n",
              "                                                     [key], {});\n",
              "          if (!dataTable) return;\n",
              "\n",
              "          const docLinkHtml = 'Like what you see? Visit the ' +\n",
              "            '<a target=\"_blank\" href=https://colab.research.google.com/notebooks/data_table.ipynb>data table notebook</a>'\n",
              "            + ' to learn more about interactive tables.';\n",
              "          element.innerHTML = '';\n",
              "          dataTable['output_type'] = 'display_data';\n",
              "          await google.colab.output.renderOutput(dataTable, element);\n",
              "          const docLink = document.createElement('div');\n",
              "          docLink.innerHTML = docLinkHtml;\n",
              "          element.appendChild(docLink);\n",
              "        }\n",
              "      </script>\n",
              "    </div>\n",
              "  </div>\n",
              "  "
            ]
          },
          "metadata": {},
          "execution_count": 116
        }
      ]
    },
    {
      "cell_type": "markdown",
      "source": [
        "## Comparison between the summaries by BART and already provided data"
      ],
      "metadata": {
        "id": "bKcXDWaQsrTp"
      }
    },
    {
      "cell_type": "code",
      "source": [
        "input['highlights'].iloc[2]"
      ],
      "metadata": {
        "colab": {
          "base_uri": "https://localhost:8080/",
          "height": 70
        },
        "id": "MwvZ_wTFiJD4",
        "outputId": "01fe861c-b9c3-4c7e-c496-6bebf8ce2ed8"
      },
      "execution_count": null,
      "outputs": [
        {
          "output_type": "execute_result",
          "data": {
            "text/plain": [
              "\"David Beckham was a guest on James Corden's Late Late Show in America. He told the story of his son Brooklyn's first date, at a sushi bar. The former Manchester United midfielder watched on from a nearby table in a London restaurant. Brooklyn is looking to follow in his father's footsteps by becoming a professional footballer.\""
            ],
            "application/vnd.google.colaboratory.intrinsic+json": {
              "type": "string"
            }
          },
          "metadata": {},
          "execution_count": 124
        }
      ]
    },
    {
      "cell_type": "code",
      "source": [
        "test['highlights'].iloc[2]"
      ],
      "metadata": {
        "colab": {
          "base_uri": "https://localhost:8080/",
          "height": 70
        },
        "id": "quSywZ0IiP0F",
        "outputId": "b5250492-18ae-47fb-fa72-aeb5b84d765f"
      },
      "execution_count": null,
      "outputs": [
        {
          "output_type": "execute_result",
          "data": {
            "text/plain": [
              "\"David Beckham was a guest on James Corden's Late Late Show . He told the story of son Brooklyn's first date, at a London sushi bar . Beckham watched the date from afar under instruction from wife Victoria . He also revealed that 16-year-old Brooklyn has a weekend job at a cafe . WATCH: Beckham strips off with Corden for a spoof underwear advert .\""
            ],
            "application/vnd.google.colaboratory.intrinsic+json": {
              "type": "string"
            }
          },
          "metadata": {},
          "execution_count": 125
        }
      ]
    },
    {
      "cell_type": "markdown",
      "source": [
        "## Evaluation Metrics"
      ],
      "metadata": {
        "id": "dWJf4TkXs858"
      }
    },
    {
      "cell_type": "code",
      "source": [
        "from nltk.translate.bleu_score import sentence_bleu"
      ],
      "metadata": {
        "id": "yybBphc1k7u1"
      },
      "execution_count": null,
      "outputs": []
    },
    {
      "cell_type": "code",
      "source": [
        "score=[]\n",
        "for input_summary, test_summary in zip(input['highlights'].iloc[20:50], test['highlights'].iloc[20:50]):\n",
        "  input_text= [input_summary.split()]\n",
        "  test_text= test_summary.split()\n",
        "  blue_score = sentence_bleu(input_text, test_text)\n",
        "  score.append(blue_score)"
      ],
      "metadata": {
        "id": "9K4jjI10iYow"
      },
      "execution_count": null,
      "outputs": []
    },
    {
      "cell_type": "code",
      "source": [
        "mean_score= sum(score)/ len(score)"
      ],
      "metadata": {
        "id": "xu_lGu9Ol0SX"
      },
      "execution_count": null,
      "outputs": []
    },
    {
      "cell_type": "code",
      "source": [
        "mean_score"
      ],
      "metadata": {
        "colab": {
          "base_uri": "https://localhost:8080/"
        },
        "id": "9G9qFGTKl-jz",
        "outputId": "b21bc9ec-53cf-4bc7-c69e-2f7d292916b7"
      },
      "execution_count": null,
      "outputs": [
        {
          "output_type": "execute_result",
          "data": {
            "text/plain": [
              "0.11446491075417614"
            ]
          },
          "metadata": {},
          "execution_count": 180
        }
      ]
    },
    {
      "cell_type": "markdown",
      "source": [
        "## Output csv file"
      ],
      "metadata": {
        "id": "ZkaZaNxWtCkZ"
      }
    },
    {
      "cell_type": "code",
      "source": [
        "input.to_csv('Output.csv', index=False)"
      ],
      "metadata": {
        "id": "FMFY2vtql_tM"
      },
      "execution_count": null,
      "outputs": []
    }
  ]
}